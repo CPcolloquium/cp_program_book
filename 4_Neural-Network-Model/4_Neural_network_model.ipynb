{
  "nbformat": 4,
  "nbformat_minor": 0,
  "metadata": {
    "colab": {
      "provenance": []
    },
    "kernelspec": {
      "name": "python3",
      "display_name": "Python 3"
    },
    "language_info": {
      "name": "python"
    }
  },
  "cells": [
    {
      "cell_type": "code",
      "execution_count": 1,
      "metadata": {
        "colab": {
          "base_uri": "https://localhost:8080/"
        },
        "id": "4OlsOobLJZuL",
        "outputId": "430a20e6-9a43-4c63-ee20-61e9e0996c3f"
      },
      "outputs": [
        {
          "output_type": "stream",
          "name": "stdout",
          "text": [
            "--2024-07-05 09:15:11--  https://github.com/CPcolloquium/cp_program_book/raw/main/4_Neural-Network-Model/parameters/ctrnn-0.1-512-128-500000.pth\n",
            "Resolving github.com (github.com)... 140.82.114.4\n",
            "Connecting to github.com (github.com)|140.82.114.4|:443... connected.\n",
            "HTTP request sent, awaiting response... 302 Found\n",
            "Location: https://raw.githubusercontent.com/CPcolloquium/cp_program_book/main/4_Neural-Network-Model/parameters/ctrnn-0.1-512-128-500000.pth [following]\n",
            "--2024-07-05 09:15:11--  https://raw.githubusercontent.com/CPcolloquium/cp_program_book/main/4_Neural-Network-Model/parameters/ctrnn-0.1-512-128-500000.pth\n",
            "Resolving raw.githubusercontent.com (raw.githubusercontent.com)... 185.199.108.133, 185.199.109.133, 185.199.110.133, ...\n",
            "Connecting to raw.githubusercontent.com (raw.githubusercontent.com)|185.199.108.133|:443... connected.\n",
            "HTTP request sent, awaiting response... 200 OK\n",
            "Length: 6789 (6.6K) [application/octet-stream]\n",
            "Saving to: ‘ctrnn-0.1-512-128-500000.pth’\n",
            "\n",
            "ctrnn-0.1-512-128-5 100%[===================>]   6.63K  --.-KB/s    in 0s      \n",
            "\n",
            "2024-07-05 09:15:12 (50.1 MB/s) - ‘ctrnn-0.1-512-128-500000.pth’ saved [6789/6789]\n",
            "\n"
          ]
        }
      ],
      "source": [
        "# ダウンロードのテスト\n",
        "!wget https://github.com/CPcolloquium/cp_program_book/raw/main/4_Neural-Network-Model/parameters/ctrnn-0.1-512-128-500000.pth\n",
        "!wget https://github.com/CPcolloquium/cp_program_book/raw/main/4_Neural-Network-Model/src/print.py"
      ]
    },
    {
      "cell_type": "code",
      "source": [
        "import print\n",
        "\n",
        "print.hello()"
      ],
      "metadata": {
        "id": "ziy8ZqlZLtml"
      },
      "execution_count": null,
      "outputs": []
    }
  ]
}