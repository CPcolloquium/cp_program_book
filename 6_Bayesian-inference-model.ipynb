{
  "cells": [
    {
      "cell_type": "markdown",
      "metadata": {
        "id": "n3xnf8lzx0ZO"
      },
      "source": [
        "# ベイズ推論モデル\n"
      ]
    },
    {
      "cell_type": "markdown",
      "metadata": {
        "id": "AHb1wj-ZkgnE"
      },
      "source": [
        "以下のドキュメント内のコードはそのセルでShift + Enterで実行できます（左端の▶のクリックでも実行できます）。\n",
        "\n",
        "本章を通じて使用するパッケージもありますが，生成モデルごとに使用するパッケージをその都度読み込むように書いています。本Colabの一番最初から順次実行しなくとも，生成モデル単位で実行いただくことができます（例.パラメータ化信念モデルを飛ばして，カルマンフィルターから実行したい場合は，カルマンフィルターから始めて大丈夫です）。"
      ]
    },
    {
      "cell_type": "markdown",
      "metadata": {
        "id": "nfHT3re94Xz4"
      },
      "source": [
        "# 2. パラメータ化信念更新モデル"
      ]
    },
    {
      "cell_type": "markdown",
      "source": [
        "## 2.1 使用するパッケージのインポート\n",
        "\n",
        "使用するパッケージをインポートします。"
      ],
      "metadata": {
        "id": "JmS-s0z1Q6Wj"
      }
    },
    {
      "cell_type": "code",
      "source": [
        "# プロット用\n",
        "import matplotlib.pyplot as plt\n",
        "# 主に行列などの計算用\n",
        "import numpy as np\n",
        "np.set_printoptions(suppress=True)\n",
        "# データフレームの作成用\n",
        "import pandas as pd\n",
        "# 目的関数の最小化用\n",
        "from scipy.optimize import minimize\n",
        "# シグモイド関数\n",
        "from scipy.special import expit"
      ],
      "metadata": {
        "id": "309MqCCFQ9C2"
      },
      "execution_count": null,
      "outputs": []
    }
  ],
  "metadata": {
    "colab": {
      "provenance": [],
      "toc_visible": true
    },
    "kernelspec": {
      "display_name": "Python 3",
      "name": "python3"
    },
    "language_info": {
      "name": "python"
    }
  },
  "nbformat": 4,
  "nbformat_minor": 0
}